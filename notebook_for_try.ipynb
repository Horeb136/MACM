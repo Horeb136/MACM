{
 "cells": [
  {
   "cell_type": "code",
   "execution_count": 7,
   "metadata": {},
   "outputs": [],
   "source": [
    "# Libraries \n",
    "import kagglehub\n",
    "import torch\n",
    "from transformers import AutoTokenizer, AutoModelForCausalLM\n",
    "import prompt.prompts as prompts"
   ]
  },
  {
   "cell_type": "code",
   "execution_count": 3,
   "metadata": {},
   "outputs": [
    {
     "name": "stdout",
     "output_type": "stream",
     "text": [
      "Path to model files: /home/horeb/.cache/kagglehub/models/stevenouatin/deepseek-math/transformers/deepseek-math-7b-instruct/1\n"
     ]
    }
   ],
   "source": [
    "# Download the latest version of the model\n",
    "path = kagglehub.model_download(\"stevenouatin/deepseek-math/transformers/deepseek-math-7b-instruct\")\n",
    "\n",
    "print(\"Path to model files:\", path)"
   ]
  },
  {
   "cell_type": "code",
   "execution_count": 5,
   "metadata": {},
   "outputs": [
    {
     "name": "stderr",
     "output_type": "stream",
     "text": [
      "Loading checkpoint shards: 100%|██████████| 2/2 [00:00<00:00,  5.86it/s]\n"
     ]
    }
   ],
   "source": [
    "model_path = path\n",
    "model = AutoModelForCausalLM.from_pretrained(model_path, torch_dtype=torch.bfloat16)\n",
    "tokenizer = AutoTokenizer.from_pretrained(model_path)"
   ]
  },
  {
   "cell_type": "code",
   "execution_count": 9,
   "metadata": {},
   "outputs": [
    {
     "data": {
      "text/plain": [
       "\"\\nHelp me to analyze the conditions and the objective of a problem.\\nYou should only provide one objective.\\nThe conditions must be derived directly from the problem; deductions or calculations to establish these conditions are not allowed.\\nYou don't need to provide me with a solution for the time being.\\n\\nExample 1:\\nQuestion:\\nLouis earns a base monthly salary of $\\\\$$1,200 with 5$\\\\%$ commission on sales. For a month with $\\\\$$25,000 in sales, what are Louis's total earnings?\\nConditions:\\n1. Louis earns a base monthly salary of $1,200.\\n2. He also earns a commission of 5$\\\\%$ on sales.\\n3. In a particular month, Louis makes $25,000 in sales.\\nObjective:\\nCalculate Louis's total earnings for the month, which includes both his base salary and the commission from the sales.\\n\\nExample 2:\\nQuestion:\\nA line segment has one endpoint at $(6,8)$ and midpoint at $(1,1)$. What is the sum of the coordinates of the other endpoint?\\nConditions:\\n1. A line segment has one endpoint at (6,8).\\n2. The midpoint of this line segment is at (1,1).\\nObjective:\\n1. Find the coordinates of the other endpoint of the line segment.\\n2. Find the sum of these coordinates.\\n\\nReal question:\\nQuestion:\\n{Question}\\n\""
      ]
     },
     "execution_count": 9,
     "metadata": {},
     "output_type": "execute_result"
    }
   ],
   "source": [
    "prompt = prompts.Analysis_conditions_objective\n",
    "prompt"
   ]
  },
  {
   "cell_type": "code",
   "execution_count": 13,
   "metadata": {},
   "outputs": [
    {
     "name": "stderr",
     "output_type": "stream",
     "text": [
      "/home/horeb/Documents/Projets/MACM/MACMVenv/lib/python3.12/site-packages/transformers/generation/configuration_utils.py:629: UserWarning: `do_sample` is set to `False`. However, `temperature` is set to `0.7` -- this flag is only used in sample-based generation modes. You should set `do_sample=True` or unset `temperature`.\n",
      "  warnings.warn(\n"
     ]
    }
   ],
   "source": [
    "inputs = tokenizer(prompt, return_tensors=\"pt\").to(\"cpu\")\n",
    "with torch.no_grad():\n",
    "    outputs = model.generate(\n",
    "        **inputs,\n",
    "        max_new_tokens=500,\n",
    "        temperature=0.7,\n",
    "        num_return_sequences=1,\n",
    "        pad_token_id=tokenizer.eos_token_id\n",
    "    )\n",
    "responses = [tokenizer.decode(output, skip_special_tokens=True) for output in outputs]"
   ]
  },
  {
   "cell_type": "code",
   "execution_count": 14,
   "metadata": {},
   "outputs": [
    {
     "data": {
      "text/plain": [
       "[\"\\nHelp me to analyze the conditions and the objective of a problem.\\nYou should only provide one objective.\\nThe conditions must be derived directly from the problem; deductions or calculations to establish these conditions are not allowed.\\nYou don't need to provide me with a solution for the time being.\\n\\nExample 1:\\nQuestion:\\nLouis earns a base monthly salary of $\\\\$$1,200 with 5$\\\\%$ commission on sales. For a month with $\\\\$$25,000 in sales, what are Louis's total earnings?\\nConditions:\\n1. Louis earns a base monthly salary of $1,200.\\n2. He also earns a commission of 5$\\\\%$ on sales.\\n3. In a particular month, Louis makes $25,000 in sales.\\nObjective:\\nCalculate Louis's total earnings for the month, which includes both his base salary and the commission from the sales.\\n\\nExample 2:\\nQuestion:\\nA line segment has one endpoint at $(6,8)$ and midpoint at $(1,1)$. What is the sum of the coordinates of the other endpoint?\\nConditions:\\n1. A line segment has one endpoint at (6,8).\\n2. The midpoint of this line segment is at (1,1).\\nObjective:\\n1. Find the coordinates of the other endpoint of the line segment.\\n2. Find the sum of these coordinates.\\n\\nReal question:\\nQuestion:\\n{Question}\\nConditions:\\n{Conditions}\\nObjective:\\n{Objective}\"]"
      ]
     },
     "execution_count": 14,
     "metadata": {},
     "output_type": "execute_result"
    }
   ],
   "source": [
    "responses"
   ]
  }
 ],
 "metadata": {
  "kernelspec": {
   "display_name": "MACMVenv",
   "language": "python",
   "name": "python3"
  },
  "language_info": {
   "codemirror_mode": {
    "name": "ipython",
    "version": 3
   },
   "file_extension": ".py",
   "mimetype": "text/x-python",
   "name": "python",
   "nbconvert_exporter": "python",
   "pygments_lexer": "ipython3",
   "version": "3.12.3"
  }
 },
 "nbformat": 4,
 "nbformat_minor": 2
}
